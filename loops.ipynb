{
 "cells": [
  {
   "cell_type": "markdown",
   "metadata": {},
   "source": [
    "# **The Python for Loop**\n",
    "Of the loop types listed above, Python only implements the last: collection-based iteration. At first blush, that may seem like a raw deal, but rest assured that Python’s implementation of definite iteration is so versatile that you won’t end up feeling cheated!\n",
    "\n",
    "Shortly, you’ll dig into the guts of Python’s for loop in detail. But for now, let’s start with a quick prototype and example, just to get acquainted.\n",
    "\n",
    "Python’s for loop looks like this:"
   ]
  },
  {
   "cell_type": "code",
   "execution_count": 113,
   "metadata": {},
   "outputs": [
    {
     "name": "stdout",
     "output_type": "stream",
     "text": [
      "foo\n",
      "bar\n",
      "baz\n"
     ]
    }
   ],
   "source": [
    "\n",
    "for element in ['foo', 'bar', 'baz']:\n",
    "    print(element)"
   ]
  },
  {
   "cell_type": "markdown",
   "metadata": {},
   "source": [
    "## Iterators\n",
    "Okay, now you know what it means for an object to be iterable, and you know how to use iter() to obtain an iterator from it. Once you’ve got an iterator, what can you do with it?\n",
    "\n",
    "An iterator is essentially a value producer that yields successive values from its associated iterable object. The built-in function next() is used to obtain the next value from in iterator.\n",
    "\n",
    "Here is an example using the same list as above         # List\n"
   ]
  },
  {
   "cell_type": "code",
   "execution_count": 122,
   "metadata": {},
   "outputs": [
    {
     "data": {
      "text/plain": [
       "<list_iterator at 0x7fb62c52c9d0>"
      ]
     },
     "execution_count": 122,
     "metadata": {},
     "output_type": "execute_result"
    }
   ],
   "source": [
    "a = ['foo', 'bar', 'baz']\n",
    "\n",
    "itr = iter(a)\n",
    "itr\n"
   ]
  },
  {
   "cell_type": "code",
   "execution_count": 123,
   "metadata": {},
   "outputs": [
    {
     "data": {
      "text/plain": [
       "'foo'"
      ]
     },
     "execution_count": 123,
     "metadata": {},
     "output_type": "execute_result"
    }
   ],
   "source": [
    "next(itr)"
   ]
  },
  {
   "cell_type": "code",
   "execution_count": 124,
   "metadata": {},
   "outputs": [
    {
     "data": {
      "text/plain": [
       "'bar'"
      ]
     },
     "execution_count": 124,
     "metadata": {},
     "output_type": "execute_result"
    }
   ],
   "source": [
    "next(itr)"
   ]
  },
  {
   "cell_type": "code",
   "execution_count": 125,
   "metadata": {},
   "outputs": [
    {
     "data": {
      "text/plain": [
       "'baz'"
      ]
     },
     "execution_count": 125,
     "metadata": {},
     "output_type": "execute_result"
    }
   ],
   "source": [
    "next(itr)"
   ]
  },
  {
   "cell_type": "code",
   "execution_count": 126,
   "metadata": {},
   "outputs": [
    {
     "ename": "StopIteration",
     "evalue": "",
     "output_type": "error",
     "traceback": [
      "\u001b[0;31m---------------------------------------------------------------------------\u001b[0m",
      "\u001b[0;31mStopIteration\u001b[0m                             Traceback (most recent call last)",
      "\u001b[0;32m<ipython-input-126-6693cc261707>\u001b[0m in \u001b[0;36m<module>\u001b[0;34m\u001b[0m\n\u001b[0;32m----> 1\u001b[0;31m \u001b[0mnext\u001b[0m\u001b[0;34m(\u001b[0m\u001b[0mitr\u001b[0m\u001b[0;34m)\u001b[0m\u001b[0;34m\u001b[0m\u001b[0;34m\u001b[0m\u001b[0m\n\u001b[0m",
      "\u001b[0;31mStopIteration\u001b[0m: "
     ]
    }
   ],
   "source": [
    "next(itr)"
   ]
  },
  {
   "cell_type": "markdown",
   "metadata": {},
   "source": [
    "If all the values from an iterator have been returned already, a subsequent next() call raises a StopIteration exception. Any further attempts to obtain values from the iterator will fail.\n",
    "\n",
    "You can only obtain values from an iterator in one direction. You can’t go backward. There is no prev() function. But you can define two independent iterators on the same iterable object:"
   ]
  },
  {
   "cell_type": "markdown",
   "metadata": {},
   "source": [
    "# The Guts of the Python for Loop\n",
    "You now have been introduced to all the concepts you need to fully understand how Python’s for loop works. Before proceeding, let’s review the relevant terms:\n",
    "\n",
    "\n",
    "- **Iteration**:  The process of looping through the objects or items in a collection\n",
    "- **Iterable**:An object (or the adjective used to describe an object) that can be iterated over\n",
    "- **Iterator**: The object that produces successive items or values from its associated iterable\n",
    "- **iter()**: The built-in function used to obtain an iterator from an iterable\n",
    "\n",
    "Now, consider again the simple for loop presented at the start of this tutorial:"
   ]
  },
  {
   "cell_type": "markdown",
   "metadata": {},
   "source": [
    "for i in ['foo', 'bar', 'baz']:\n",
    "    print(i)\n"
   ]
  },
  {
   "cell_type": "markdown",
   "metadata": {},
   "source": [
    "This loop can be described entirely in terms of the concepts you have just learned about. To carry out the iteration this for loop describes, Python does the following:\n",
    "\n",
    "- Calls iter() to obtain an iterator for a\n",
    "- Calls next() repeatedly to obtain each item from the iterator in turn\n",
    "- Terminates the loop when next() raises the StopIteration exception\n",
    "- The loop body is executed once for each item next() returns, with loop variable i set to the given item for each iteration.\n",
    "\n",
    "This sequence of events is summarized in the following diagram:"
   ]
  },
  {
   "cell_type": "markdown",
   "metadata": {},
   "source": [
    "## **Iterating Through a Dictionary**"
   ]
  },
  {
   "cell_type": "markdown",
   "metadata": {},
   "source": [
    "You saw earlier that an iterator can be obtained from a dictionary with iter(), so you know dictionaries must be iterable. What happens when you loop through a dictionary? Let’s see:"
   ]
  },
  {
   "cell_type": "code",
   "execution_count": 128,
   "metadata": {},
   "outputs": [
    {
     "name": "stdout",
     "output_type": "stream",
     "text": [
      "foo\n",
      "bar\n",
      "baz\n"
     ]
    }
   ],
   "source": [
    "d = {'foo': 1, 'bar': 2, 'baz': 3}\n",
    "for k in d:\n",
    "    print(k)"
   ]
  },
  {
   "cell_type": "markdown",
   "metadata": {},
   "source": [
    "As you can see, when a for loop iterates through a dictionary, the loop variable is assigned to the dictionary’s keys.\n",
    "\n",
    "To access the dictionary values within the loop, you can make a dictionary reference using the key as usual:"
   ]
  },
  {
   "cell_type": "code",
   "execution_count": 130,
   "metadata": {},
   "outputs": [
    {
     "name": "stdout",
     "output_type": "stream",
     "text": [
      "1\n",
      "2\n",
      "3\n"
     ]
    }
   ],
   "source": [
    "for k in d:\n",
    "    print(d[k])"
   ]
  },
  {
   "cell_type": "markdown",
   "metadata": {},
   "source": [
    "You can also iterate through a dictionary’s values directly by using .values():\n",
    "\n"
   ]
  },
  {
   "cell_type": "code",
   "execution_count": 131,
   "metadata": {},
   "outputs": [
    {
     "name": "stdout",
     "output_type": "stream",
     "text": [
      "1\n",
      "2\n",
      "3\n"
     ]
    }
   ],
   "source": [
    "for v in d.values():\n",
    "    print(v)"
   ]
  },
  {
   "cell_type": "markdown",
   "metadata": {},
   "source": [
    "In fact, you can iterate through both the keys and values of a dictionary simultaneously. That is because the loop variable of a for loop isn’t limited to just a single variable. \n",
    "\n",
    "It can also be a tuple, in which case the assignments are made from the items in the iterable using packing and unpacking, just as with an assignment statement:"
   ]
  },
  {
   "cell_type": "code",
   "execution_count": 132,
   "metadata": {},
   "outputs": [
    {
     "name": "stdout",
     "output_type": "stream",
     "text": [
      "1 2\n"
     ]
    }
   ],
   "source": [
    "i, j = (1, 2)\n",
    "print(i, j)"
   ]
  },
  {
   "cell_type": "code",
   "execution_count": 133,
   "metadata": {},
   "outputs": [
    {
     "name": "stdout",
     "output_type": "stream",
     "text": [
      "1 2\n",
      "3 4\n",
      "5 6\n"
     ]
    }
   ],
   "source": [
    "for i, j in [(1, 2), (3, 4), (5, 6)]:\n",
    "    print(i, j)\n"
   ]
  },
  {
   "cell_type": "markdown",
   "metadata": {},
   "source": [
    "As noted in the tutorial on Python dictionaries, the dictionary method .items() effectively returns a list of key/value pairs as tuples:"
   ]
  },
  {
   "cell_type": "code",
   "execution_count": 134,
   "metadata": {},
   "outputs": [
    {
     "data": {
      "text/plain": [
       "dict_items([('foo', 1), ('bar', 2), ('baz', 3)])"
      ]
     },
     "execution_count": 134,
     "metadata": {},
     "output_type": "execute_result"
    }
   ],
   "source": [
    "d = {'foo': 1, 'bar': 2, 'baz': 3}\n",
    "\n",
    "d.items()"
   ]
  },
  {
   "cell_type": "markdown",
   "metadata": {},
   "source": [
    "Thus, the Pythonic way to iterate through a dictionary accessing both the keys and values looks like this:"
   ]
  },
  {
   "cell_type": "code",
   "execution_count": 135,
   "metadata": {},
   "outputs": [
    {
     "name": "stdout",
     "output_type": "stream",
     "text": [
      "k = foo , v = 1\n",
      "k = bar , v = 2\n",
      "k = baz , v = 3\n"
     ]
    }
   ],
   "source": [
    "d = {'foo': 1, 'bar': 2, 'baz': 3}\n",
    "for k, v in d.items():\n",
    "    print('k =', k, ', v =', v)"
   ]
  },
  {
   "cell_type": "markdown",
   "metadata": {},
   "source": [
    "## Exercices"
   ]
  },
  {
   "cell_type": "markdown",
   "metadata": {},
   "source": [
    "### **Exercice 1**: \n",
    "Write a for loop so that every item in the list is printed."
   ]
  },
  {
   "cell_type": "code",
   "execution_count": 1,
   "metadata": {},
   "outputs": [
    {
     "name": "stdout",
     "output_type": "stream",
     "text": [
      "koala\n",
      "cat\n",
      "fox\n",
      "panda\n",
      "chipmunk\n",
      "sloth\n",
      "penguin\n",
      "dolphin\n"
     ]
    }
   ],
   "source": [
    "lst=[\"koala\", \"cat\", \"fox\", \"panda\", \"chipmunk\", \"sloth\", \"penguin\", \"dolphin\"]\n",
    "#Type your answer here.\n"
   ]
  },
  {
   "cell_type": "markdown",
   "metadata": {},
   "source": [
    "### **Exercice 2**: \n",
    "Write a for loop which print \"Hello!, \" plus each name in the list. i.e.: \"Hello!, Sam\""
   ]
  },
  {
   "cell_type": "code",
   "execution_count": 2,
   "metadata": {},
   "outputs": [
    {
     "name": "stdout",
     "output_type": "stream",
     "text": [
      "Hello!, Sam\n",
      "Hello!, Lisa\n",
      "Hello!, Micha\n",
      "Hello!, Dave\n",
      "Hello!, Wyatt\n",
      "Hello!, Emma\n",
      "Hello!, Sage\n"
     ]
    }
   ],
   "source": [
    "lst=[\"Sam\", \"Lisa\", \"Micha\", \"Dave\", \"Wyatt\", \"Emma\", \"Sage\"]\n",
    "#Type your code here.\n"
   ]
  },
  {
   "cell_type": "markdown",
   "metadata": {},
   "source": [
    "### **Exercice 3**: \n",
    "Write a for loop that iterates through a string and prints every letter."
   ]
  },
  {
   "cell_type": "code",
   "execution_count": 3,
   "metadata": {},
   "outputs": [
    {
     "name": "stdout",
     "output_type": "stream",
     "text": [
      "A\n",
      "n\n",
      "t\n",
      "a\n",
      "r\n",
      "c\n",
      "t\n",
      "i\n",
      "c\n",
      "a\n"
     ]
    }
   ],
   "source": [
    "my_str=\"Antarctica\"\n",
    "#Type your code here.\n"
   ]
  },
  {
   "cell_type": "markdown",
   "metadata": {},
   "source": [
    "### **Exercice 4**: \n",
    "Using a for loop and .append() method append each item with a Dr. prefix to the lst."
   ]
  },
  {
   "cell_type": "code",
   "execution_count": 8,
   "metadata": {},
   "outputs": [
    {
     "data": {
      "text/plain": [
       "['Dr. Phil', 'Dr. Oz', 'Dr. Seuss', 'Dr. Dre']"
      ]
     },
     "execution_count": 8,
     "metadata": {},
     "output_type": "execute_result"
    }
   ],
   "source": [
    "lst1=[\"Phil\", \"Oz\", \"Seuss\", \"Dre\"]\n",
    "lst2=[]\n",
    "#Type your answer here.\n",
    "\n",
    "print(lst2)"
   ]
  },
  {
   "cell_type": "markdown",
   "metadata": {},
   "source": [
    "### **Exercice 5**: "
   ]
  },
  {
   "cell_type": "code",
   "execution_count": null,
   "metadata": {},
   "outputs": [],
   "source": [
    "lst1=[3, 7, 6, 8, 9, 11, 15, 25]\n",
    "lst2=[]\n",
    "#Type your answer here.\n",
    "\n",
    "\n",
    "print(lst2)"
   ]
  },
  {
   "cell_type": "markdown",
   "metadata": {},
   "source": [
    "### **Exercice 6**: \n",
    "Write a for loop using an if statement, that appends each number to the new list if it's positive."
   ]
  },
  {
   "cell_type": "code",
   "execution_count": 10,
   "metadata": {},
   "outputs": [
    {
     "name": "stdout",
     "output_type": "stream",
     "text": [
      "[111, 32, 9, 85]\n"
     ]
    }
   ],
   "source": [
    "lst1=[111, 32, -9, -45, -17, 9, 85, -10]\n",
    "lst2=[]\n",
    "#Type your answer here.\n",
    "\n",
    "\n",
    "\n",
    "print(lst2)"
   ]
  },
  {
   "cell_type": "markdown",
   "metadata": {},
   "source": [
    "### **Exercice 7**: \n",
    "Using for loop and if statement, append the value minus 1000 for each key to the new list if the value is above 1000. i.e.: if the value is 1500, 500 should be added to the new list."
   ]
  },
  {
   "cell_type": "code",
   "execution_count": 12,
   "metadata": {},
   "outputs": [
    {
     "name": "stdout",
     "output_type": "stream",
     "text": [
      "[100, 1300, 50, 2200]\n"
     ]
    }
   ],
   "source": [
    "dict={\"z1\":900, \"t1\": 1100, \"p1\": 2300, \"r1\": 1050, \"k1\": 3200, \"g1\": 400}\n",
    "lst=[]\n",
    "#Type your answer here.\n",
    "\n",
    "\n",
    "\n",
    "print(lst)\n"
   ]
  },
  {
   "cell_type": "markdown",
   "metadata": {},
   "source": [
    "### **Exercice 8**: \n",
    "Write a for loop which appends the type of each element in the first list to the second list."
   ]
  },
  {
   "cell_type": "code",
   "execution_count": 13,
   "metadata": {},
   "outputs": [
    {
     "name": "stdout",
     "output_type": "stream",
     "text": [
      "[<class 'float'>, <class 'int'>, <class 'str'>, <class 'bool'>, <class 'list'>, <class 'dict'>]\n"
     ]
    }
   ],
   "source": [
    "lst1=[3.14, 66, \"Teddy Bear\", True, [], {}]\n",
    "lst2=[]\n",
    "#Type your answer here.\n",
    "\n",
    "\n",
    "\n",
    "print(lst2)\n",
    "\n"
   ]
  },
  {
   "cell_type": "markdown",
   "metadata": {},
   "source": [
    "### **Exercice 9**: \n",
    "Type a code inside the for loop so that counter variable named c is increased by one each time loop iterates. Can you guess how many times it will add 1?."
   ]
  },
  {
   "cell_type": "code",
   "execution_count": null,
   "metadata": {},
   "outputs": [],
   "source": [
    "str=\"Civilization\"\n",
    "\n",
    "c=0\n",
    "for i in str:\n",
    "#Type your answer here.    \n",
    "\n",
    "\n",
    "    print(c)"
   ]
  },
  {
   "cell_type": "markdown",
   "metadata": {},
   "source": [
    "### **Exercice 10**: \n",
    "Create a dictionary by extracting the keys from a given dictionary\n",
    "\n"
   ]
  },
  {
   "cell_type": "code",
   "execution_count": 15,
   "metadata": {},
   "outputs": [
    {
     "name": "stdout",
     "output_type": "stream",
     "text": [
      "{'name': 'Kelly', 'salary': 8000}\n"
     ]
    }
   ],
   "source": [
    "# Inputs:\n",
    "sample_dict = {\n",
    "    \"name\": \"Kelly\",\n",
    "    \"age\": 25,\n",
    "    \"salary\": 8000,\n",
    "    \"city\": \"New york\"}\n",
    "\n",
    "# Keys to extract\n",
    "keys = [\"name\", \"salary\"]\n",
    "\n",
    "# Expected Output: {'name': 'Kelly', 'salary': 8000}\n",
    "\n",
    "# :\n",
    "\n"
   ]
  },
  {
   "cell_type": "markdown",
   "metadata": {},
   "source": [
    "# **Solutions:**"
   ]
  },
  {
   "cell_type": "markdown",
   "metadata": {},
   "source": [
    "### **Solution 1**: "
   ]
  },
  {
   "cell_type": "code",
   "execution_count": null,
   "metadata": {},
   "outputs": [],
   "source": [
    "lst=[\"koala\", \"cat\", \"fox\", \"panda\", \"chipmunk\", \"sloth\", \"penguin\", \"dolphin\"]\n",
    "#Type your answer here.\n",
    "for i in lst:\n",
    "    print(i)"
   ]
  },
  {
   "cell_type": "markdown",
   "metadata": {},
   "source": [
    "### **Solution 2**: "
   ]
  },
  {
   "cell_type": "code",
   "execution_count": null,
   "metadata": {},
   "outputs": [],
   "source": [
    "lst=[\"Sam\", \"Lisa\", \"Micha\", \"Dave\", \"Wyatt\", \"Emma\", \"Sage\"]\n",
    "#Type your code here.\n",
    "for i in lst:\n",
    "    print(\"Hello!, \" + i)"
   ]
  },
  {
   "cell_type": "markdown",
   "metadata": {},
   "source": [
    "### **Solution 3**: "
   ]
  },
  {
   "cell_type": "code",
   "execution_count": null,
   "metadata": {},
   "outputs": [],
   "source": [
    "my_str=\"Antarctica\"\n",
    "#Type your code here.\n",
    "for i in my_str:\n",
    "    print(i)"
   ]
  },
  {
   "cell_type": "markdown",
   "metadata": {},
   "source": [
    "### **Solution 4**: "
   ]
  },
  {
   "cell_type": "code",
   "execution_count": null,
   "metadata": {},
   "outputs": [],
   "source": [
    "lst1=[\"Phil\", \"Oz\", \"Seuss\", \"Dre\"]\n",
    "lst2=[]\n",
    "#Type your answer here.\n",
    "\n",
    "for i in lst1:\n",
    "    lst2.append(\"Dr. \" + i)\n",
    "print(lst2)"
   ]
  },
  {
   "cell_type": "markdown",
   "metadata": {},
   "source": [
    "### **Solution 5**: \n",
    "Write a for loop which appends the square of each number to the new list."
   ]
  },
  {
   "cell_type": "code",
   "execution_count": 11,
   "metadata": {},
   "outputs": [],
   "source": [
    "lst1=[3, 7, 6, 8, 9, 11, 15, 25]\n",
    "lst2=[]\n",
    "#Type your answer here.\n",
    "for i in lst1:\n",
    "    lst2.append(i**2)\n",
    "\n",
    "\n",
    "print(lst2)"
   ]
  },
  {
   "cell_type": "markdown",
   "metadata": {},
   "source": [
    "### **Solution 6**: "
   ]
  },
  {
   "cell_type": "code",
   "execution_count": null,
   "metadata": {},
   "outputs": [],
   "source": [
    "lst1=[111, 32, -9, -45, -17, 9, 85, -10]\n",
    "lst2=[]\n",
    "#Type your answer here.\n",
    "for i in lst1:\n",
    "    if i > 0:\n",
    "        lst2.append(i)\n",
    "\n",
    "\n",
    "print(lst2)"
   ]
  },
  {
   "cell_type": "markdown",
   "metadata": {},
   "source": [
    "### **Solution 7**: "
   ]
  },
  {
   "cell_type": "code",
   "execution_count": null,
   "metadata": {},
   "outputs": [],
   "source": [
    "dict={\"z1\":900, \"t1\": 1100, \"p1\": 2300, \"r1\": 1050, \"k1\": 3200, \"g1\": 400}\n",
    "lst=[]\n",
    "#Type your answer here.\n",
    "for i in dict:\n",
    "    if dict[i] > 1000:\n",
    "        lst.append(dict[i]-1000)\n",
    "\n",
    "\n",
    "print(lst)"
   ]
  },
  {
   "cell_type": "markdown",
   "metadata": {},
   "source": [
    "### **Solution 8**: "
   ]
  },
  {
   "cell_type": "code",
   "execution_count": 14,
   "metadata": {},
   "outputs": [
    {
     "name": "stdout",
     "output_type": "stream",
     "text": [
      "[<class 'float'>, <class 'int'>, <class 'str'>, <class 'bool'>, <class 'list'>, <class 'dict'>]\n"
     ]
    }
   ],
   "source": [
    "lst1=[3.14, 66, \"Teddy Bear\", True, [], {}]\n",
    "lst2=[]\n",
    "#Type your answer here.\n",
    "\n",
    "for i in lst1:\n",
    "    lst2.append(type(i))\n",
    "\n",
    "print(lst2)"
   ]
  },
  {
   "cell_type": "markdown",
   "metadata": {},
   "source": [
    "### **Solution 9**:\n"
   ]
  },
  {
   "cell_type": "code",
   "execution_count": 5,
   "metadata": {},
   "outputs": [
    {
     "name": "stdout",
     "output_type": "stream",
     "text": [
      "12\n"
     ]
    }
   ],
   "source": [
    "c = 0\n",
    "for i in str:\n",
    "    c = c+1\n",
    "print(c)\n"
   ]
  },
  {
   "cell_type": "markdown",
   "metadata": {},
   "source": [
    "### **Solution 10**: "
   ]
  },
  {
   "cell_type": "code",
   "execution_count": null,
   "metadata": {},
   "outputs": [],
   "source": []
  },
  {
   "cell_type": "code",
   "execution_count": null,
   "metadata": {},
   "outputs": [],
   "source": []
  }
 ],
 "metadata": {
  "kernelspec": {
   "display_name": "Python 3 (ipykernel)",
   "language": "python",
   "name": "python3"
  },
  "language_info": {
   "codemirror_mode": {
    "name": "ipython",
    "version": 3
   },
   "file_extension": ".py",
   "mimetype": "text/x-python",
   "name": "python",
   "nbconvert_exporter": "python",
   "pygments_lexer": "ipython3",
   "version": "3.8.5"
  }
 },
 "nbformat": 4,
 "nbformat_minor": 4
}
